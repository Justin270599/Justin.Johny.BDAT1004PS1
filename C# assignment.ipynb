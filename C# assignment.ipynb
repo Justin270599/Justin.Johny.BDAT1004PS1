{
 "cells": [
  {
   "cell_type": "code",
   "execution_count": null,
   "id": "a392eaf7",
   "metadata": {},
   "outputs": [],
   "source": [
    "// Question 1\n",
    "\n",
    "5 // This is an Integer\n",
    "    \n",
    "5.0 // This is a double\n",
    "    \n",
    "5 > 1 // This is boolean\n",
    "\n",
    "'5' // This is a string\n",
    "    \n",
    "5 * 2 // This is an Integer\n",
    "    \n",
    "'5' * 2 // This is not valid\n",
    "    \n",
    "'5' + '2' // This is a string\n",
    "    \n",
    "5 / 2 // This is a double\n",
    "    \n",
    "5 % 2 // This is an Integer\n",
    "    \n",
    "{5, 2, 1} // This  is an Array\n",
    "\n",
    "5 == 3 // This is a boolean\n",
    "    \n",
    "Pi (the number) // This is a float"
   ]
  },
  {
   "cell_type": "code",
   "execution_count": 3,
   "id": "44952865",
   "metadata": {},
   "outputs": [
    {
     "name": "stdout",
     "output_type": "stream",
     "text": [
      "String: Supercalifragilisticexpialidocious\n",
      "String Length: 34\n",
      "Yes the word ice is a substring\n"
     ]
    }
   ],
   "source": [
    "// Question 2\n",
    "// A & B part\n",
    "\n",
    "         string str = \"Supercalifragilisticexpialidocious\";\n",
    "         Console.WriteLine(\"String: \"+str);\n",
    "         Console.WriteLine(\"String Length: \"+str.Length);\n",
    "           if (str.Contains(\"ice\") == true) \n",
    "           {\n",
    "             Console.WriteLine(\"Yes the word ice is a substring\");\n",
    "           } \n",
    "          else \n",
    "           {\n",
    "             Console.WriteLine(\"No the word ice is not a substring\");\n",
    "           }"
   ]
  },
  {
   "cell_type": "code",
   "execution_count": 2,
   "id": "457bf972",
   "metadata": {},
   "outputs": [
    {
     "name": "stdout",
     "output_type": "stream",
     "text": [
      "The longest word is: Supercalifragilisticexpialidocious\r\n"
     ]
    }
   ],
   "source": [
    "// Question 2 \n",
    "\n",
    "//C part\n",
    " \n",
    " string[] words = new string[] { \"Supercalifragilisticexpialidocious\", \"Honorificabilitudinitatibus\", \"Bababadalgharaghtakamminarronnkonn\" };\n",
    "\n",
    "string longestWord = words[0];\n",
    "foreach (string word in words)\n",
    "{\n",
    "    if (word.Length > longestWord.Length)\n",
    "    {\n",
    "        longestWord = word;\n",
    "    }\n",
    "}\n",
    "\n",
    "Console.WriteLine(\"The longest word is: \" + longestWord);"
   ]
  },
  {
   "cell_type": "code",
   "execution_count": 4,
   "id": "748dece9",
   "metadata": {},
   "outputs": [
    {
     "name": "stdout",
     "output_type": "stream",
     "text": [
      "The first composer in dictionary order is: Bartok\n",
      "The last composer in dictionary order is: Buxtehude\n"
     ]
    }
   ],
   "source": [
    "// Question 2\n",
    "//D part\n",
    "\n",
    "string[] composers = new string[] { \"Berlioz\", \"Borodin\", \"Brian\", \"Bartok\", \"Bellini\", \"Buxtehude\", \"Bernstein\" };\n",
    "\n",
    "Array.Sort(composers);\n",
    "\n",
    "Console.WriteLine(\"The first composer in dictionary order is: \" + composers[0]);\n",
    "Console.WriteLine(\"The last composer in dictionary order is: \" + composers[composers.Length - 1]);"
   ]
  },
  {
   "cell_type": "code",
   "execution_count": 5,
   "id": "0abc79c8",
   "metadata": {},
   "outputs": [
    {
     "name": "stdout",
     "output_type": "stream",
     "text": [
      "1.7320508075688772\r\n"
     ]
    }
   ],
   "source": [
    "//Question 3\n",
    "        {\n",
    "            Console.WriteLine(triangleArea(2, 2, 2));\n",
    "        }\n",
    "\n",
    "        static double triangleArea(double a, double b, double c)\n",
    "        {\n",
    "            double s = (a + b + c) / 2;\n",
    "            return Math.Sqrt(s * (s - a) * (s - b) * (s - c));\n",
    "        }"
   ]
  },
  {
   "cell_type": "code",
   "execution_count": 6,
   "id": "0905732d",
   "metadata": {},
   "outputs": [
    {
     "name": "stdout",
     "output_type": "stream",
     "text": [
      "The Even elements are: \n",
      "42 \t56 \t32 \t\n",
      "The Odd elements are: \n",
      "25 \t47 \t"
     ]
    }
   ],
   "source": [
    "//Question 4\n",
    "\n",
    "        \n",
    "          //  Console.WriteLine(\"Input the number of elemets to be stored in the array: \");\n",
    "            //  int no = Convert.ToInt32(Console.ReadLine());\n",
    "            int no = 5;\n",
    "            int[] a = new int[5] { 25, 47, 42, 56, 32 };\n",
    "            int[] odd = new int[no];\n",
    "            int[] even = new int[no];\n",
    "            int i, j, k;\n",
    "           // for (i=0;i<no;i++)\n",
    "           // {\n",
    "           //     Console.WriteLine($\"Enter element {i + 1}: \");\n",
    "           //     a[i] = Convert.ToInt32(Console.ReadLine());\n",
    "           // }\n",
    "            for (i = 0, j = 0, k = 0; i < no; i++)\n",
    "            {\n",
    "                if ((a[i]%2)==0)\n",
    "                {\n",
    "                    even[j] = a[i];\n",
    "                    j++;\n",
    "                }\n",
    "                else\n",
    "                {\n",
    "                    odd[k]= a[i];\n",
    "                    k++;\n",
    "                }\n",
    "            }\n",
    "            Console.WriteLine(\"The Even elements are: \");\n",
    "            for(i=0;i<j;i++)\n",
    "            {\n",
    "                Console.Write($\"{even[i]} \\t\");\n",
    "            }\n",
    "            Console.WriteLine();\n",
    "            Console.WriteLine(\"The Odd elements are: \");\n",
    "            for (i = 0; i < k; i++)\n",
    "            {\n",
    "                Console.Write($\"{odd[i]} \\t\");\n",
    "            }"
   ]
  },
  {
   "cell_type": "code",
   "execution_count": 7,
   "id": "05947bb4",
   "metadata": {},
   "outputs": [
    {
     "name": "stdout",
     "output_type": "stream",
     "text": [
      "True\n",
      "False\n"
     ]
    }
   ],
   "source": [
    "//Question 5 A part\n",
    "        {\n",
    "            Console.WriteLine(Inside(1, 1, 0, 0, 2, 3));  // True\n",
    "            Console.WriteLine(Inside(-1, -1, 0, 0, 2, 3));  // False\n",
    "            Console.ReadLine();\n",
    "        }\n",
    "\n",
    "        static bool Inside(int x, int y, int x1, int y1, int x2, int y2)\n",
    "        {\n",
    "            return x >= x1 && x <= x2 && y >= y1 && y <= y2;\n",
    "        }"
   ]
  },
  {
   "cell_type": "code",
   "execution_count": 2,
   "id": "8df31a5b",
   "metadata": {},
   "outputs": [
    {
     "name": "stdout",
     "output_type": "stream",
     "text": [
      "False\r\n"
     ]
    }
   ],
   "source": [
    "//Part B\n",
    "\n",
    "static bool Inside(double x, double y, double x1, double y1, double x2, double y2)\n",
    "         {\n",
    "              return x >= x1 && x <= x2 && y >= y1 && y <= y2; \n",
    "         }\n",
    "         {\n",
    "            Console.WriteLine(Inside(1, 1,0.3,0.5, 1.1, 0.7) && Inside(1, 1,0.5,0.2,1.1,2));\n",
    "            Console.ReadLine();\n",
    "         }"
   ]
  }
 ],
 "metadata": {
  "kernelspec": {
   "display_name": ".NET (C#)",
   "language": "C#",
   "name": ".net-csharp"
  },
  "language_info": {
   "file_extension": ".cs",
   "mimetype": "text/x-csharp",
   "name": "C#",
   "pygments_lexer": "csharp",
   "version": "11.0"
  }
 },
 "nbformat": 4,
 "nbformat_minor": 5
}

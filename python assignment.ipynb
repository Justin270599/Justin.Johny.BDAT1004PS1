{
 "cells": [
  {
   "cell_type": "code",
   "execution_count": 13,
   "id": "3aec9ef9",
   "metadata": {},
   "outputs": [
    {
     "name": "stdout",
     "output_type": "stream",
     "text": [
      "Enter a word: happy\n",
      "appyhay\n"
     ]
    }
   ],
   "source": [
    "# Question 6\n",
    "\n",
    "def pig():\n",
    "    text = input(\"Enter a word: \")\n",
    "    lower_word = text.lower()\n",
    "    first_letter = lower_word[0]\n",
    "    if first_letter in 'aeiou':\n",
    "        return lower_word + \"way\"\n",
    "    else:\n",
    "        return lower_word[1:] + first_letter + \"ay\"\n",
    "\n",
    "print(pig())"
   ]
  },
  {
   "cell_type": "code",
   "execution_count": 12,
   "id": "65c33284",
   "metadata": {
    "scrolled": false
   },
   "outputs": [
    {
     "name": "stdout",
     "output_type": "stream",
     "text": [
      "There are 15 patients of blood type A\n",
      "There are 1 patients of blood type B\n",
      "There are 13 patients of blood type AB\n",
      "There are 15 patients of blood type O\n",
      "There are 0 patients of blood type OO\n"
     ]
    }
   ],
   "source": [
    "# Question 7\n",
    "\n",
    "def bldcount(bloodfile):\n",
    "  count_a = 0\n",
    "  count_b = 0\n",
    "  count_o = 0\n",
    "  count_ab = 0\n",
    "  count_oo = 0\n",
    "  for bld in bloodfile:\n",
    "    btypes = bld.strip().split()\n",
    "    for btype in btypes:\n",
    "      if btype == 'A':\n",
    "        count_a += 1\n",
    "      elif btype == 'B':\n",
    "        count_b += 1\n",
    "      elif btype == 'AB':\n",
    "        count_ab += 1\n",
    "      elif btype == 'OO':\n",
    "        count_oo += 1\n",
    "      elif btype == 'O':\n",
    "        count_o += 1\n",
    "\n",
    "  print(\"There are\", count_a, \"patients of blood type A\")\n",
    "  print(\"There are\", count_b, \"patients of blood type B\")\n",
    "  print(\"There are\", count_ab, \"patients of blood type AB\")\n",
    "  print(\"There are\", count_o, \"patients of blood type O\")\n",
    "  print(\"There are\", count_oo, \"patients of blood type OO\")\n",
    "\n",
    "bfile = open(\"bloodtype.txt\")\n",
    "bldcount(bfile)"
   ]
  },
  {
   "cell_type": "code",
   "execution_count": 18,
   "id": "07ff3076",
   "metadata": {},
   "outputs": [
    {
     "name": "stdout",
     "output_type": "stream",
     "text": [
      "122.96544\n",
      "1.241401\n"
     ]
    }
   ],
   "source": [
    "# Question 8\n",
    "\n",
    "def read_exchange_rates():\n",
    "    exchange_rates = {\n",
    "        \"AUD\": 1.0345157,\n",
    "        \"CHF\": 1.0237414,\n",
    "        \"CNY\": 0.1550176,\n",
    "        \"DKK\": 0.1651442,\n",
    "        \"EUR\": 1.2296544,\n",
    "        \"GBP\": 1.5550989,\n",
    "        \"HKD\": 0.1270207,\n",
    "        \"INR\": 0.0177643,\n",
    "        \"JPY\": 0.01241401,\n",
    "        \"MXN\": 0.0751848,\n",
    "        \"MYR\": 0.3145411,\n",
    "        \"NOK\": 0.1677063,\n",
    "        \"NZD\": 0.8003591,\n",
    "        \"PHP\": 0.0233234,\n",
    "        \"SEK\": 0.148269,\n",
    "        \"SGD\": 0.788871,\n",
    "        \"THB\": 0.0313789\n",
    "    }\n",
    "    return exchange_rates\n",
    "\n",
    "def curconv(currency, amount):\n",
    "    exchange_rates = read_exchange_rates()\n",
    "    if currency in exchange_rates:\n",
    "        return amount * exchange_rates[currency]\n",
    "    else:\n",
    "        return None\n",
    "\n",
    "print(curconv('EUR', 100))\n",
    "print(curconv('JPY', 100))"
   ]
  },
  {
   "cell_type": "code",
   "execution_count": null,
   "id": "69e0d432",
   "metadata": {},
   "outputs": [],
   "source": [
    "# Question 9\n",
    "\n",
    "#Trying to add incompatible variables, as in adding 6 + ‘a’\n",
    "TypeError\n",
    "#Referring to the 12th item of a list that has only 10 items\n",
    "Index Error\n",
    "#Using a value that is out of range for a function’s input, such as calling math.sqrt(-1.0) \n",
    "Value Error\n",
    "#Using an undeclared variable, such as print(x) when x has not been defined \n",
    "Name Error\n",
    "#Trying to open a file that does not exist, such as mistyping the file name or looking in the wrong directory.\n",
    "FileNotFound Error"
   ]
  },
  {
   "cell_type": "code",
   "execution_count": 17,
   "id": "24cf6f42",
   "metadata": {},
   "outputs": [
    {
     "name": "stdout",
     "output_type": "stream",
     "text": [
      "Enter the text: happy\n",
      "[1, 0, 0, 0, 0, 0, 0, 1, 0, 0, 0, 0, 0, 0, 0, 2, 0, 0, 0, 0, 0, 0, 0, 0, 1, 0]\n"
     ]
    }
   ],
   "source": [
    "# Question 10\n",
    "\n",
    "def frequencies():\n",
    "    text = input(\"Enter the text: \")\n",
    "    lists = \"abcdefghijklmnopqrstuvwxyz\"\n",
    "    voc_list = [0] * 26\n",
    "    for char in text:\n",
    "        if char.lower() in lists:\n",
    "            index = lists.index(char.lower())\n",
    "            voc_list[index] += 1\n",
    "    return voc_list\n",
    "count = frequencies()\n",
    "print(count)"
   ]
  }
 ],
 "metadata": {
  "kernelspec": {
   "display_name": "Python 3 (ipykernel)",
   "language": "python",
   "name": "python3"
  },
  "language_info": {
   "codemirror_mode": {
    "name": "ipython",
    "version": 3
   },
   "file_extension": ".py",
   "mimetype": "text/x-python",
   "name": "python",
   "nbconvert_exporter": "python",
   "pygments_lexer": "ipython3",
   "version": "3.9.13"
  }
 },
 "nbformat": 4,
 "nbformat_minor": 5
}
